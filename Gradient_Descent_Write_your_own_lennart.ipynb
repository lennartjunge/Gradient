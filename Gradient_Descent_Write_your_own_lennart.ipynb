{
 "cells": [
  {
   "cell_type": "markdown",
   "metadata": {},
   "source": [
    "## Algorithm"
   ]
  },
  {
   "cell_type": "markdown",
   "metadata": {},
   "source": [
    "A simple gradient Descent Algorithm is as follows:\n",
    "1. Obtain a function to minimize F(x)\n",
    "\n",
    "2. Initialize a value x from which to start the descent or optimization from\n",
    "\n",
    "3. Specify a learning rate that will determine how much of a step to descend by or how quickly you converge to the minimum value\n",
    "\n",
    "4. Obtain the derivative of that value x (the descent)\n",
    "\n",
    "5. Proceed to descend by the derivative of that value multiplied by the learning rate\n",
    "\n",
    "6. Update the value of x with the new value descended to\n",
    "\n",
    "7. Check your stop condition to see whether to stop\n",
    "\n",
    "8. If condition satisfied, stop. If not, proceed to step 4 with the new x value and keep repeating algorithm"
   ]
  },
  {
   "cell_type": "markdown",
   "metadata": {},
   "source": [
    "### Let us implement this in Python"
   ]
  },
  {
   "cell_type": "markdown",
   "metadata": {},
   "source": [
    "We will implement a simple representation of gradient descent using python. \n",
    "\n",
    "We will create an arbitrary loss function and attempt to find a local minimum value for that function— f(x) = x³ — 3x² + 7"
   ]
  },
  {
   "cell_type": "markdown",
   "metadata": {},
   "source": [
    "#### Step 1"
   ]
  },
  {
   "cell_type": "markdown",
   "metadata": {},
   "source": [
    "We will first visualize this function with a set of values ranging from -1 and 3 (arbitrarily chosen to ensure steep curve)"
   ]
  },
  {
   "cell_type": "code",
   "execution_count": 15,
   "metadata": {},
   "outputs": [],
   "source": [
    "# Your code here\n",
    "import numpy as np\n",
    "import matplotlib.pyplot as plt\n",
    "%matplotlib inline"
   ]
  },
  {
   "cell_type": "code",
   "execution_count": 43,
   "metadata": {},
   "outputs": [
    {
     "data": {
      "image/png": "[encoded data removed]",
      "text/plain": [
       "<Figure size 432x288 with 1 Axes>"
      ]
     },
     "metadata": {
      "needs_background": "light"
     },
     "output_type": "display_data"
    }
   ],
   "source": [
    "#creating the function and plotting it \n",
    "function = lambda x:(x**3) -(3*(x**2)) + 7\n",
    "\n",
    "#Get 1000 evenly spaced numbers between -1 and 3 (arbitratil chosen to ensure steep curve)\n",
    "x = np.linspace(-1,3,1000)\n",
    "\n",
    "#Plot the curve\n",
    "plt.plot(x, function(x))\n",
    "plt.show()"
   ]
  },
  {
   "cell_type": "code",
   "execution_count": null,
   "metadata": {},
   "outputs": [],
   "source": []
  },
  {
   "cell_type": "markdown",
   "metadata": {},
   "source": [
    "#### Step 2"
   ]
  },
  {
   "cell_type": "markdown",
   "metadata": {},
   "source": [
    "We will then proceed to make two functions for the gradient descent implementation:\n",
    "\n",
    "The first is a derivative function: \n",
    "\n",
    "\n",
    "This function takes in a value of x and returns its derivative based on the initial function we specified. It is shown below:"
   ]
  },
  {
   "cell_type": "code",
   "execution_count": 44,
   "metadata": {},
   "outputs": [
    {
     "data": {
      "text/plain": [
       "array([ 9.00000000e+00,  8.95200005e+00,  8.90409629e+00,  8.85628872e+00,\n",
       "        8.80857735e+00,  8.76096216e+00,  8.71344317e+00,  8.66602037e+00,\n",
       "        8.61869377e+00,  8.57146336e+00,  8.52432913e+00,  8.47729110e+00,\n",
       "        8.43034927e+00,  8.38350362e+00,  8.33675417e+00,  8.29010091e+00,\n",
       "        8.24354384e+00,  8.19708297e+00,  8.15071829e+00,  8.10444980e+00,\n",
       "        8.05827750e+00,  8.01220139e+00,  7.96622148e+00,  7.92033776e+00,\n",
       "        7.87455023e+00,  7.82885889e+00,  7.78326374e+00,  7.73776479e+00,\n",
       "        7.69236203e+00,  7.64705546e+00,  7.60184509e+00,  7.55673091e+00,\n",
       "        7.51171291e+00,  7.46679112e+00,  7.42196551e+00,  7.37723609e+00,\n",
       "        7.33260287e+00,  7.28806584e+00,  7.24362501e+00,  7.19928036e+00,\n",
       "        7.15503191e+00,  7.11087965e+00,  7.06682358e+00,  7.02286370e+00,\n",
       "        6.97900002e+00,  6.93523253e+00,  6.89156123e+00,  6.84798612e+00,\n",
       "        6.80450721e+00,  6.76112449e+00,  6.71783796e+00,  6.67464762e+00,\n",
       "        6.63155348e+00,  6.58855552e+00,  6.54565376e+00,  6.50284819e+00,\n",
       "        6.46013882e+00,  6.41752563e+00,  6.37500864e+00,  6.33258784e+00,\n",
       "        6.29026324e+00,  6.24803482e+00,  6.20590260e+00,  6.16386657e+00,\n",
       "        6.12192673e+00,  6.08008309e+00,  6.03833563e+00,  5.99668437e+00,\n",
       "        5.95512930e+00,  5.91367043e+00,  5.87230774e+00,  5.83104125e+00,\n",
       "        5.78987095e+00,  5.74879684e+00,  5.70781893e+00,  5.66693721e+00,\n",
       "        5.62615168e+00,  5.58546234e+00,  5.54486919e+00,  5.50437224e+00,\n",
       "        5.46397148e+00,  5.42366691e+00,  5.38345853e+00,  5.34334635e+00,\n",
       "        5.30333036e+00,  5.26341056e+00,  5.22358695e+00,  5.18385954e+00,\n",
       "        5.14422831e+00,  5.10469328e+00,  5.06525444e+00,  5.02591180e+00,\n",
       "        4.98666534e+00,  4.94751508e+00,  4.90846101e+00,  4.86950314e+00,\n",
       "        4.83064145e+00,  4.79187596e+00,  4.75320666e+00,  4.71463355e+00,\n",
       "        4.67615664e+00,  4.63777591e+00,  4.59949138e+00,  4.56130304e+00,\n",
       "        4.52321090e+00,  4.48521494e+00,  4.44731518e+00,  4.40951161e+00,\n",
       "        4.37180424e+00,  4.33419305e+00,  4.29667806e+00,  4.25925926e+00,\n",
       "        4.22193665e+00,  4.18471024e+00,  4.14758001e+00,  4.11054598e+00,\n",
       "        4.07360814e+00,  4.03676650e+00,  4.00002104e+00,  3.96337178e+00,\n",
       "        3.92681871e+00,  3.89036183e+00,  3.85400115e+00,  3.81773666e+00,\n",
       "        3.78156836e+00,  3.74549625e+00,  3.70952033e+00,  3.67364061e+00,\n",
       "        3.63785708e+00,  3.60216974e+00,  3.56657859e+00,  3.53108364e+00,\n",
       "        3.49568487e+00,  3.46038230e+00,  3.42517593e+00,  3.39006574e+00,\n",
       "        3.35505175e+00,  3.32013395e+00,  3.28531234e+00,  3.25058692e+00,\n",
       "        3.21595770e+00,  3.18142467e+00,  3.14698783e+00,  3.11264718e+00,\n",
       "        3.07840273e+00,  3.04425446e+00,  3.01020239e+00,  2.97624652e+00,\n",
       "        2.94238683e+00,  2.90862334e+00,  2.87495604e+00,  2.84138493e+00,\n",
       "        2.80791001e+00,  2.77453129e+00,  2.74124876e+00,  2.70806242e+00,\n",
       "        2.67497227e+00,  2.64197831e+00,  2.60908055e+00,  2.57627898e+00,\n",
       "        2.54357360e+00,  2.51096442e+00,  2.47845142e+00,  2.44603462e+00,\n",
       "        2.41371401e+00,  2.38148960e+00,  2.34936137e+00,  2.31732934e+00,\n",
       "        2.28539350e+00,  2.25355385e+00,  2.22181040e+00,  2.19016314e+00,\n",
       "        2.15861207e+00,  2.12715719e+00,  2.09579850e+00,  2.06453601e+00,\n",
       "        2.03336971e+00,  2.00229960e+00,  1.97132568e+00,  1.94044796e+00,\n",
       "        1.90966642e+00,  1.87898108e+00,  1.84839194e+00,  1.81789898e+00,\n",
       "        1.78750222e+00,  1.75720165e+00,  1.72699727e+00,  1.69688908e+00,\n",
       "        1.66687709e+00,  1.63696129e+00,  1.60714168e+00,  1.57741826e+00,\n",
       "        1.54779103e+00,  1.51826000e+00,  1.48882516e+00,  1.45948651e+00,\n",
       "        1.43024406e+00,  1.40109779e+00,  1.37204772e+00,  1.34309384e+00,\n",
       "        1.31423616e+00,  1.28547466e+00,  1.25680936e+00,  1.22824025e+00,\n",
       "        1.19976733e+00,  1.17139061e+00,  1.14311008e+00,  1.11492574e+00,\n",
       "        1.08683759e+00,  1.05884563e+00,  1.03094987e+00,  1.00315030e+00,\n",
       "        9.75446918e-01,  9.47839732e-01,  9.20328737e-01,  8.92913935e-01,\n",
       "        8.65595325e-01,  8.38372907e-01,  8.11246682e-01,  7.84216649e-01,\n",
       "        7.57282808e-01,  7.30445160e-01,  7.03703704e-01,  6.77058440e-01,\n",
       "        6.50509368e-01,  6.24056489e-01,  5.97699802e-01,  5.71439307e-01,\n",
       "        5.45275005e-01,  5.19206895e-01,  4.93234977e-01,  4.67359251e-01,\n",
       "        4.41579718e-01,  4.15896377e-01,  3.90309228e-01,  3.64818272e-01,\n",
       "        3.39423508e-01,  3.14124936e-01,  2.88922556e-01,  2.63816369e-01,\n",
       "        2.38806374e-01,  2.13892571e-01,  1.89074961e-01,  1.64353543e-01,\n",
       "        1.39728317e-01,  1.15199283e-01,  9.07664421e-02,  6.64297932e-02,\n",
       "        4.21893365e-02,  1.80450721e-02, -6.00300000e-03, -2.99548798e-02,\n",
       "       -5.38105673e-02, -7.75700626e-02, -1.01233365e-01, -1.24800476e-01,\n",
       "       -1.48271395e-01, -1.71646121e-01, -1.94924654e-01, -2.18106996e-01,\n",
       "       -2.41193145e-01, -2.64183102e-01, -2.87076867e-01, -3.09874439e-01,\n",
       "       -3.32575819e-01, -3.55181007e-01, -3.77690002e-01, -4.00102806e-01,\n",
       "       -4.22419416e-01, -4.44639835e-01, -4.66764061e-01, -4.88792095e-01,\n",
       "       -5.10723937e-01, -5.32559587e-01, -5.54299044e-01, -5.75942309e-01,\n",
       "       -5.97489381e-01, -6.18940262e-01, -6.40294950e-01, -6.61553445e-01,\n",
       "       -6.82715749e-01, -7.03781860e-01, -7.24751779e-01, -7.45625505e-01,\n",
       "       -7.66403040e-01, -7.87084382e-01, -8.07669531e-01, -8.28158489e-01,\n",
       "       -8.48551254e-01, -8.68847827e-01, -8.89048207e-01, -9.09152396e-01,\n",
       "       -9.29160392e-01, -9.49072195e-01, -9.68887807e-01, -9.88607226e-01,\n",
       "       -1.00823045e+00, -1.02775749e+00, -1.04718833e+00, -1.06652298e+00,\n",
       "       -1.08576144e+00, -1.10490370e+00, -1.12394978e+00, -1.14289966e+00,\n",
       "       -1.16175334e+00, -1.18051084e+00, -1.19917215e+00, -1.21773726e+00,\n",
       "       -1.23620618e+00, -1.25457890e+00, -1.27285544e+00, -1.29103578e+00,\n",
       "       -1.30911993e+00, -1.32710789e+00, -1.34499965e+00, -1.36279523e+00,\n",
       "       -1.38049461e+00, -1.39809780e+00, -1.41560479e+00, -1.43301560e+00,\n",
       "       -1.45033021e+00, -1.46754863e+00, -1.48467086e+00, -1.50169689e+00,\n",
       "       -1.51862673e+00, -1.53546039e+00, -1.55219784e+00, -1.56883911e+00,\n",
       "       -1.58538418e+00, -1.60183306e+00, -1.61818575e+00, -1.63444225e+00,\n",
       "       -1.65060255e+00, -1.66666667e+00, -1.68263459e+00, -1.69850631e+00,\n",
       "       -1.71428185e+00, -1.72996119e+00, -1.74554434e+00, -1.76103130e+00,\n",
       "       -1.77642207e+00, -1.79171664e+00, -1.80691502e+00, -1.82201721e+00,\n",
       "       -1.83702321e+00, -1.85193301e+00, -1.86674663e+00, -1.88146405e+00,\n",
       "       -1.89608527e+00, -1.91061031e+00, -1.92503915e+00, -1.93937180e+00,\n",
       "       -1.95360826e+00, -1.96774853e+00, -1.98179260e+00, -1.99574049e+00,\n",
       "       -2.00959217e+00, -2.02334767e+00, -2.03700698e+00, -2.05057009e+00,\n",
       "       -2.06403701e+00, -2.07740774e+00, -2.09068227e+00, -2.10386062e+00,\n",
       "       -2.11694277e+00, -2.12992873e+00, -2.14281849e+00, -2.15561207e+00,\n",
       "       -2.16830945e+00, -2.18091064e+00, -2.19341564e+00, -2.20582444e+00,\n",
       "       -2.21813706e+00, -2.23035348e+00, -2.24247370e+00, -2.25449774e+00,\n",
       "       -2.26642558e+00, -2.27825724e+00, -2.28999270e+00, -2.30163196e+00,\n",
       "       -2.31317504e+00, -2.32462192e+00, -2.33597261e+00, -2.34722711e+00,\n",
       "       -2.35838541e+00, -2.36944753e+00, -2.38041345e+00, -2.39128318e+00,\n",
       "       -2.40205671e+00, -2.41273406e+00, -2.42331521e+00, -2.43380017e+00,\n",
       "       -2.44418893e+00, -2.45448151e+00, -2.46467789e+00, -2.47477808e+00,\n",
       "       -2.48478208e+00, -2.49468989e+00, -2.50450150e+00, -2.51421692e+00,\n",
       "       -2.52383615e+00, -2.53335919e+00, -2.54278603e+00, -2.55211668e+00,\n",
       "       -2.56135114e+00, -2.57048941e+00, -2.57953148e+00, -2.58847737e+00,\n",
       "       -2.59732706e+00, -2.60608056e+00, -2.61473786e+00, -2.62329897e+00,\n",
       "       -2.63176390e+00, -2.64013263e+00, -2.64840516e+00, -2.65658151e+00,\n",
       "       -2.66466166e+00, -2.67264562e+00, -2.68053339e+00, -2.68832496e+00,\n",
       "       -2.69602034e+00, -2.70361954e+00, -2.71112253e+00, -2.71852934e+00,\n",
       "       -2.72583995e+00, -2.73305438e+00, -2.74017261e+00, -2.74719464e+00,\n",
       "       -2.75412049e+00, -2.76095014e+00, -2.76768360e+00, -2.77432087e+00,\n",
       "       -2.78086194e+00, -2.78730683e+00, -2.79365552e+00, -2.79990802e+00,\n",
       "       -2.80606432e+00, -2.81212444e+00, -2.81808836e+00, -2.82395609e+00,\n",
       "       -2.82972763e+00, -2.83540297e+00, -2.84098212e+00, -2.84646508e+00,\n",
       "       -2.85185185e+00, -2.85714243e+00, -2.86233681e+00, -2.86743500e+00,\n",
       "       -2.87243700e+00, -2.87734281e+00, -2.88215242e+00, -2.88686584e+00,\n",
       "       -2.89148307e+00, -2.89600411e+00, -2.90042896e+00, -2.90475761e+00,\n",
       "       -2.90899007e+00, -2.91312634e+00, -2.91716642e+00, -2.92111030e+00,\n",
       "       -2.92495799e+00, -2.92870949e+00, -2.93236480e+00, -2.93592391e+00,\n",
       "       -2.93938683e+00, -2.94275356e+00, -2.94602410e+00, -2.94919845e+00,\n",
       "       -2.95227660e+00, -2.95525856e+00, -2.95814433e+00, -2.96093391e+00,\n",
       "       -2.96362729e+00, -2.96622448e+00, -2.96872548e+00, -2.97113029e+00,\n",
       "       -2.97343890e+00, -2.97565133e+00, -2.97776756e+00, -2.97978760e+00,\n",
       "       -2.98171144e+00, -2.98353909e+00, -2.98527056e+00, -2.98690582e+00,\n",
       "       -2.98844490e+00, -2.98988779e+00, -2.99123448e+00, -2.99248498e+00,\n",
       "       -2.99363928e+00, -2.99469740e+00, -2.99565932e+00, -2.99652505e+00,\n",
       "       -2.99729459e+00, -2.99796794e+00, -2.99854509e+00, -2.99902605e+00,\n",
       "       -2.99941082e+00, -2.99969940e+00, -2.99989178e+00, -2.99998798e+00,\n",
       "       -2.99998798e+00, -2.99989178e+00, -2.99969940e+00, -2.99941082e+00,\n",
       "       -2.99902605e+00, -2.99854509e+00, -2.99796794e+00, -2.99729459e+00,\n",
       "       -2.99652505e+00, -2.99565932e+00, -2.99469740e+00, -2.99363928e+00,\n",
       "       -2.99248498e+00, -2.99123448e+00, -2.98988779e+00, -2.98844490e+00,\n",
       "       -2.98690582e+00, -2.98527056e+00, -2.98353909e+00, -2.98171144e+00,\n",
       "       -2.97978760e+00, -2.97776756e+00, -2.97565133e+00, -2.97343890e+00,\n",
       "       -2.97113029e+00, -2.96872548e+00, -2.96622448e+00, -2.96362729e+00,\n",
       "       -2.96093391e+00, -2.95814433e+00, -2.95525856e+00, -2.95227660e+00,\n",
       "       -2.94919845e+00, -2.94602410e+00, -2.94275356e+00, -2.93938683e+00,\n",
       "       -2.93592391e+00, -2.93236480e+00, -2.92870949e+00, -2.92495799e+00,\n",
       "       -2.92111030e+00, -2.91716642e+00, -2.91312634e+00, -2.90899007e+00,\n",
       "       -2.90475761e+00, -2.90042896e+00, -2.89600411e+00, -2.89148307e+00,\n",
       "       -2.88686584e+00, -2.88215242e+00, -2.87734281e+00, -2.87243700e+00,\n",
       "       -2.86743500e+00, -2.86233681e+00, -2.85714243e+00, -2.85185185e+00,\n",
       "       -2.84646508e+00, -2.84098212e+00, -2.83540297e+00, -2.82972763e+00,\n",
       "       -2.82395609e+00, -2.81808836e+00, -2.81212444e+00, -2.80606432e+00,\n",
       "       -2.79990802e+00, -2.79365552e+00, -2.78730683e+00, -2.78086194e+00,\n",
       "       -2.77432087e+00, -2.76768360e+00, -2.76095014e+00, -2.75412049e+00,\n",
       "       -2.74719464e+00, -2.74017261e+00, -2.73305438e+00, -2.72583995e+00,\n",
       "       -2.71852934e+00, -2.71112253e+00, -2.70361954e+00, -2.69602034e+00,\n",
       "       -2.68832496e+00, -2.68053339e+00, -2.67264562e+00, -2.66466166e+00,\n",
       "       -2.65658151e+00, -2.64840516e+00, -2.64013263e+00, -2.63176390e+00,\n",
       "       -2.62329897e+00, -2.61473786e+00, -2.60608056e+00, -2.59732706e+00,\n",
       "       -2.58847737e+00, -2.57953148e+00, -2.57048941e+00, -2.56135114e+00,\n",
       "       -2.55211668e+00, -2.54278603e+00, -2.53335919e+00, -2.52383615e+00,\n",
       "       -2.51421692e+00, -2.50450150e+00, -2.49468989e+00, -2.48478208e+00,\n",
       "       -2.47477808e+00, -2.46467789e+00, -2.45448151e+00, -2.44418893e+00,\n",
       "       -2.43380017e+00, -2.42331521e+00, -2.41273406e+00, -2.40205671e+00,\n",
       "       -2.39128318e+00, -2.38041345e+00, -2.36944753e+00, -2.35838541e+00,\n",
       "       -2.34722711e+00, -2.33597261e+00, -2.32462192e+00, -2.31317504e+00,\n",
       "       -2.30163196e+00, -2.28999270e+00, -2.27825724e+00, -2.26642558e+00,\n",
       "       -2.25449774e+00, -2.24247370e+00, -2.23035348e+00, -2.21813706e+00,\n",
       "       -2.20582444e+00, -2.19341564e+00, -2.18091064e+00, -2.16830945e+00,\n",
       "       -2.15561207e+00, -2.14281849e+00, -2.12992873e+00, -2.11694277e+00,\n",
       "       -2.10386062e+00, -2.09068227e+00, -2.07740774e+00, -2.06403701e+00,\n",
       "       -2.05057009e+00, -2.03700698e+00, -2.02334767e+00, -2.00959217e+00,\n",
       "       -1.99574049e+00, -1.98179260e+00, -1.96774853e+00, -1.95360826e+00,\n",
       "       -1.93937180e+00, -1.92503915e+00, -1.91061031e+00, -1.89608527e+00,\n",
       "       -1.88146405e+00, -1.86674663e+00, -1.85193301e+00, -1.83702321e+00,\n",
       "       -1.82201721e+00, -1.80691502e+00, -1.79171664e+00, -1.77642207e+00,\n",
       "       -1.76103130e+00, -1.74554434e+00, -1.72996119e+00, -1.71428185e+00,\n",
       "       -1.69850631e+00, -1.68263459e+00, -1.66666667e+00, -1.65060255e+00,\n",
       "       -1.63444225e+00, -1.61818575e+00, -1.60183306e+00, -1.58538418e+00,\n",
       "       -1.56883911e+00, -1.55219784e+00, -1.53546039e+00, -1.51862673e+00,\n",
       "       -1.50169689e+00, -1.48467086e+00, -1.46754863e+00, -1.45033021e+00,\n",
       "       -1.43301560e+00, -1.41560479e+00, -1.39809780e+00, -1.38049461e+00,\n",
       "       -1.36279523e+00, -1.34499965e+00, -1.32710789e+00, -1.30911993e+00,\n",
       "       -1.29103578e+00, -1.27285544e+00, -1.25457890e+00, -1.23620618e+00,\n",
       "       -1.21773726e+00, -1.19917215e+00, -1.18051084e+00, -1.16175334e+00,\n",
       "       -1.14289966e+00, -1.12394978e+00, -1.10490370e+00, -1.08576144e+00,\n",
       "       -1.06652298e+00, -1.04718833e+00, -1.02775749e+00, -1.00823045e+00,\n",
       "       -9.88607226e-01, -9.68887807e-01, -9.49072195e-01, -9.29160392e-01,\n",
       "       -9.09152396e-01, -8.89048207e-01, -8.68847827e-01, -8.48551254e-01,\n",
       "       -8.28158489e-01, -8.07669531e-01, -7.87084382e-01, -7.66403040e-01,\n",
       "       -7.45625505e-01, -7.24751779e-01, -7.03781860e-01, -6.82715749e-01,\n",
       "       -6.61553445e-01, -6.40294950e-01, -6.18940262e-01, -5.97489381e-01,\n",
       "       -5.75942309e-01, -5.54299044e-01, -5.32559587e-01, -5.10723937e-01,\n",
       "       -4.88792095e-01, -4.66764061e-01, -4.44639835e-01, -4.22419416e-01,\n",
       "       -4.00102806e-01, -3.77690002e-01, -3.55181007e-01, -3.32575819e-01,\n",
       "       -3.09874439e-01, -2.87076867e-01, -2.64183102e-01, -2.41193145e-01,\n",
       "       -2.18106996e-01, -1.94924654e-01, -1.71646121e-01, -1.48271395e-01,\n",
       "       -1.24800476e-01, -1.01233365e-01, -7.75700626e-02, -5.38105673e-02,\n",
       "       -2.99548798e-02, -6.00300000e-03,  1.80450721e-02,  4.21893365e-02,\n",
       "        6.64297932e-02,  9.07664421e-02,  1.15199283e-01,  1.39728317e-01,\n",
       "        1.64353543e-01,  1.89074961e-01,  2.13892571e-01,  2.38806374e-01,\n",
       "        2.63816369e-01,  2.88922556e-01,  3.14124936e-01,  3.39423508e-01,\n",
       "        3.64818272e-01,  3.90309228e-01,  4.15896377e-01,  4.41579718e-01,\n",
       "        4.67359251e-01,  4.93234977e-01,  5.19206895e-01,  5.45275005e-01,\n",
       "        5.71439307e-01,  5.97699802e-01,  6.24056489e-01,  6.50509368e-01,\n",
       "        6.77058440e-01,  7.03703704e-01,  7.30445160e-01,  7.57282808e-01,\n",
       "        7.84216649e-01,  8.11246682e-01,  8.38372907e-01,  8.65595325e-01,\n",
       "        8.92913935e-01,  9.20328737e-01,  9.47839732e-01,  9.75446918e-01,\n",
       "        1.00315030e+00,  1.03094987e+00,  1.05884563e+00,  1.08683759e+00,\n",
       "        1.11492574e+00,  1.14311008e+00,  1.17139061e+00,  1.19976733e+00,\n",
       "        1.22824025e+00,  1.25680936e+00,  1.28547466e+00,  1.31423616e+00,\n",
       "        1.34309384e+00,  1.37204772e+00,  1.40109779e+00,  1.43024406e+00,\n",
       "        1.45948651e+00,  1.48882516e+00,  1.51826000e+00,  1.54779103e+00,\n",
       "        1.57741826e+00,  1.60714168e+00,  1.63696129e+00,  1.66687709e+00,\n",
       "        1.69688908e+00,  1.72699727e+00,  1.75720165e+00,  1.78750222e+00,\n",
       "        1.81789898e+00,  1.84839194e+00,  1.87898108e+00,  1.90966642e+00,\n",
       "        1.94044796e+00,  1.97132568e+00,  2.00229960e+00,  2.03336971e+00,\n",
       "        2.06453601e+00,  2.09579850e+00,  2.12715719e+00,  2.15861207e+00,\n",
       "        2.19016314e+00,  2.22181040e+00,  2.25355385e+00,  2.28539350e+00,\n",
       "        2.31732934e+00,  2.34936137e+00,  2.38148960e+00,  2.41371401e+00,\n",
       "        2.44603462e+00,  2.47845142e+00,  2.51096442e+00,  2.54357360e+00,\n",
       "        2.57627898e+00,  2.60908055e+00,  2.64197831e+00,  2.67497227e+00,\n",
       "        2.70806242e+00,  2.74124876e+00,  2.77453129e+00,  2.80791001e+00,\n",
       "        2.84138493e+00,  2.87495604e+00,  2.90862334e+00,  2.94238683e+00,\n",
       "        2.97624652e+00,  3.01020239e+00,  3.04425446e+00,  3.07840273e+00,\n",
       "        3.11264718e+00,  3.14698783e+00,  3.18142467e+00,  3.21595770e+00,\n",
       "        3.25058692e+00,  3.28531234e+00,  3.32013395e+00,  3.35505175e+00,\n",
       "        3.39006574e+00,  3.42517593e+00,  3.46038230e+00,  3.49568487e+00,\n",
       "        3.53108364e+00,  3.56657859e+00,  3.60216974e+00,  3.63785708e+00,\n",
       "        3.67364061e+00,  3.70952033e+00,  3.74549625e+00,  3.78156836e+00,\n",
       "        3.81773666e+00,  3.85400115e+00,  3.89036183e+00,  3.92681871e+00,\n",
       "        3.96337178e+00,  4.00002104e+00,  4.03676650e+00,  4.07360814e+00,\n",
       "        4.11054598e+00,  4.14758001e+00,  4.18471024e+00,  4.22193665e+00,\n",
       "        4.25925926e+00,  4.29667806e+00,  4.33419305e+00,  4.37180424e+00,\n",
       "        4.40951161e+00,  4.44731518e+00,  4.48521494e+00,  4.52321090e+00,\n",
       "        4.56130304e+00,  4.59949138e+00,  4.63777591e+00,  4.67615664e+00,\n",
       "        4.71463355e+00,  4.75320666e+00,  4.79187596e+00,  4.83064145e+00,\n",
       "        4.86950314e+00,  4.90846101e+00,  4.94751508e+00,  4.98666534e+00,\n",
       "        5.02591180e+00,  5.06525444e+00,  5.10469328e+00,  5.14422831e+00,\n",
       "        5.18385954e+00,  5.22358695e+00,  5.26341056e+00,  5.30333036e+00,\n",
       "        5.34334635e+00,  5.38345853e+00,  5.42366691e+00,  5.46397148e+00,\n",
       "        5.50437224e+00,  5.54486919e+00,  5.58546234e+00,  5.62615168e+00,\n",
       "        5.66693721e+00,  5.70781893e+00,  5.74879684e+00,  5.78987095e+00,\n",
       "        5.83104125e+00,  5.87230774e+00,  5.91367043e+00,  5.95512930e+00,\n",
       "        5.99668437e+00,  6.03833563e+00,  6.08008309e+00,  6.12192673e+00,\n",
       "        6.16386657e+00,  6.20590260e+00,  6.24803482e+00,  6.29026324e+00,\n",
       "        6.33258784e+00,  6.37500864e+00,  6.41752563e+00,  6.46013882e+00,\n",
       "        6.50284819e+00,  6.54565376e+00,  6.58855552e+00,  6.63155348e+00,\n",
       "        6.67464762e+00,  6.71783796e+00,  6.76112449e+00,  6.80450721e+00,\n",
       "        6.84798612e+00,  6.89156123e+00,  6.93523253e+00,  6.97900002e+00,\n",
       "        7.02286370e+00,  7.06682358e+00,  7.11087965e+00,  7.15503191e+00,\n",
       "        7.19928036e+00,  7.24362501e+00,  7.28806584e+00,  7.33260287e+00,\n",
       "        7.37723609e+00,  7.42196551e+00,  7.46679112e+00,  7.51171291e+00,\n",
       "        7.55673091e+00,  7.60184509e+00,  7.64705546e+00,  7.69236203e+00,\n",
       "        7.73776479e+00,  7.78326374e+00,  7.82885889e+00,  7.87455023e+00,\n",
       "        7.92033776e+00,  7.96622148e+00,  8.01220139e+00,  8.05827750e+00,\n",
       "        8.10444980e+00,  8.15071829e+00,  8.19708297e+00,  8.24354384e+00,\n",
       "        8.29010091e+00,  8.33675417e+00,  8.38350362e+00,  8.43034927e+00,\n",
       "        8.47729110e+00,  8.52432913e+00,  8.57146336e+00,  8.61869377e+00,\n",
       "        8.66602037e+00,  8.71344317e+00,  8.76096216e+00,  8.80857735e+00,\n",
       "        8.85628872e+00,  8.90409629e+00,  8.95200005e+00,  9.00000000e+00])"
      ]
     },
     "execution_count": 44,
     "metadata": {},
     "output_type": "execute_result"
    }
   ],
   "source": [
    "def deriv(x):\n",
    "    \n",
    "    '''\n",
    "    Description: This function takes in a value of x and returns its derivative based on the \n",
    "    initial function we specified.\n",
    "    \n",
    "    Arguments:\n",
    "    \n",
    "    x - a numerical value of x \n",
    "    \n",
    "    Returns:\n",
    "    \n",
    "    x_deriv - a numerical value of the derivative of x\n",
    "    \n",
    "    '''\n",
    "    \n",
    "    x_deriv = (3*(x**2)) -6*x\n",
    "    \n",
    "    return x_deriv\n",
    "\n",
    "deriv(x)"
   ]
  },
  {
   "cell_type": "markdown",
   "metadata": {},
   "source": [
    "#### Step 3"
   ]
  },
  {
   "cell_type": "markdown",
   "metadata": {},
   "source": [
    "The second is a Step function: \n",
    "\n",
    "\n",
    "This is the function where the actual gradient descent takes place. \n",
    "\n",
    "\n",
    "\n",
    "This function takes in an initial or previous value for x, updates it based on steps taken via the learning rate and outputs the most minimum value of x that reaches the stop condition. \n",
    "\n",
    "\n",
    "\n",
    "For our stop condition, we are going to use a precision stop.\n",
    "\n",
    "\n",
    "\n",
    "This means that when the absolute difference between our old and updated x is greater than a value, the algorithm should stop. \n",
    "\n",
    "\n",
    "\n",
    "The function will also print out the minimum value of x as well as the number of steps or descents it took to reach that value."
   ]
  },
  {
   "cell_type": "code",
   "execution_count": 64,
   "metadata": {},
   "outputs": [],
   "source": [
    "# Your code here\n",
    "\n",
    "def step(x_new, x_prev, precision, l_r):\n",
    "    \n",
    "    '''\n",
    "    Description: This function takes in an initial or previous value for x, updates it based on \n",
    "    steps taken via the learning rate and outputs the most minimum value of x that reaches the precision satisfaction.\n",
    "    \n",
    "    Arguments:\n",
    "    \n",
    "    x_new - a starting value of x that will get updated based on the learning rate\n",
    "    \n",
    "    x_prev - the previous value of x that is getting updated to the new one\n",
    "    \n",
    "    precision - a precision that determines the stop of the stepwise descent \n",
    "    \n",
    "    l_r - the learning rate (size of each descent step)\n",
    "    \n",
    "    Output:\n",
    "    \n",
    "    1. Prints out the latest new value of x which equates to the minimum we are looking for\n",
    "    2. Prints out the the number of x values which equates to the number of gradient descent steps\n",
    "    3. Plots a first graph of the function with the gradient descent path\n",
    "    4. Plots a second graph of the function with a zoomed in gradient descent path in the important area\n",
    "    \n",
    "    '''\n",
    "    \n",
    "    # create empty lists where the updated values of x and y wil be appended during each iteration\n",
    "    x_list = [x_new]\n",
    "    y_list = [function(x_new)]\n",
    "    \n",
    "    # keep looping until your desired precision\n",
    "    while abs(x_new - x_prev) > precision:\n",
    "    \n",
    "        \n",
    "        # change the value of x\n",
    "        x_prev = x_new\n",
    "        \n",
    "        # get the derivation of the old value of x\n",
    "        d_x = - deriv(x_prev)  \n",
    "        \n",
    "        # get your new value of x by adding the previous, the multiplication of the derivative and the learning rate\n",
    "        x_new = x_prev + (d_x * l_r)    \n",
    "        \n",
    "        # append the new value of x to a list of all x-s for later visualization of path\n",
    "        x_list.append(x_new)    \n",
    "        \n",
    "        # append the new value of y to a list of all y-s for later visualization of path\n",
    "        y_list.append(function(x_new))   \n",
    "\n",
    "    print (\"Local minimum occurs at: \"+ str(x_new))\n",
    "    print (\"Number of steps: \" + str(len(x_list)))\n",
    "    \n",
    "    # Create plot to show Gradient descent, \n",
    "\n",
    "    plt.subplot(2,1,2)\n",
    "    plt.scatter(x_list, y_list,c='g')\n",
    "    plt.plot(x_list,y_list,c=\"g\")\n",
    "    plt.plot(x,function(x), c=\"r\")\n",
    "    plt.title(\"Gradient descent\")\n",
    "    plt.show()\n",
    "    \n",
    "    plt.subplot(2,1,2)\n",
    "    plt.scatter(x_list,y_list,c=\"g\")\n",
    "    plt.plot(x_list,y_list,c=\"g\")\n",
    "    plt.plot(x,function(x), c=\"r\")\n",
    "    plt.xlim([1.0,2.1])\n",
    "    plt.title(\"Zoomed in Gradient descent to Key Area\")\n",
    "    plt.show()"
   ]
  },
  {
   "cell_type": "markdown",
   "metadata": {},
   "source": [
    "#### Step 4"
   ]
  },
  {
   "cell_type": "code",
   "execution_count": 65,
   "metadata": {},
   "outputs": [
    {
     "name": "stdout",
     "output_type": "stream",
     "text": [
      "Local minimum occurs at: 1.9980265135950486\n",
      "Number of steps: 25\n"
     ]
    },
    {
     "data": {
      "image/png": "[encoded data removed]",
      "text/plain": [
       "<Figure size 432x288 with 1 Axes>"
      ]
     },
     "metadata": {
      "needs_background": "light"
     },
     "output_type": "display_data"
    },
    {
     "data": {
      "image/png": "[encoded data removed]",
      "text/plain": [
       "<Figure size 432x288 with 1 Axes>"
      ]
     },
     "metadata": {
      "needs_background": "light"
     },
     "output_type": "display_data"
    }
   ],
   "source": [
    "#Implement gradient descent (all the arguments are arbitrarily chosen)\n",
    "\n",
    "step(0.5, 0, 0.001, 0.05)"
   ]
  },
  {
   "cell_type": "code",
   "execution_count": null,
   "metadata": {},
   "outputs": [],
   "source": []
  },
  {
   "cell_type": "code",
   "execution_count": null,
   "metadata": {},
   "outputs": [],
   "source": []
  }
 ],
 "metadata": {
  "kernelspec": {
   "display_name": "Python 3",
   "language": "python",
   "name": "python3"
  },
  "language_info": {
   "codemirror_mode": {
    "name": "ipython",
    "version": 3
   },
   "file_extension": ".py",
   "mimetype": "text/x-python",
   "name": "python",
   "nbconvert_exporter": "python",
   "pygments_lexer": "ipython3",
   "version": "3.6.6"
  }
 },
 "nbformat": 4,
 "nbformat_minor": 2
}
